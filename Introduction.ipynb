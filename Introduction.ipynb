{
 "cells": [
  {
   "cell_type": "markdown",
   "metadata": {
    "slideshow": {
     "slide_type": "slide"
    }
   },
   "source": [
    "# Formation Poppy : Introduction\n",
    "## Pierre Rouanet, Théo Segonds\n",
    "## 5 Novembre 2015"
   ]
  },
  {
   "cell_type": "markdown",
   "metadata": {
    "slideshow": {
     "slide_type": "slide"
    }
   },
   "source": [
    "# Plan\n",
    "\n",
    "* Les différents robots Poppy\n",
    "* Comment brancher le robot\n",
    "* Comment se connecter à l'interface web\n",
    "* Présentation de l'interface de démo du robot\n",
    "* Premier pas en Snap!"
   ]
  },
  {
   "cell_type": "markdown",
   "metadata": {
    "slideshow": {
     "slide_type": "slide"
    }
   },
   "source": [
    "# Poppy Project\n",
    "\n",
    "Description générale du projet"
   ]
  },
  {
   "cell_type": "markdown",
   "metadata": {
    "slideshow": {
     "slide_type": "slide"
    }
   },
   "source": [
    "# Robots Poppy\n",
    "\n",
    "* Kits robotiques mélants mécaniques, électroniques et informatiques\n",
    "* Entièrement open-source (logiciel et matériel)"
   ]
  },
  {
   "cell_type": "markdown",
   "metadata": {
    "slideshow": {
     "slide_type": "subslide"
    }
   },
   "source": [
    "## Ergo Jr\n",
    "\n",
    "![Ergo JR](img/ergo-jr/vecto.png)"
   ]
  },
  {
   "cell_type": "markdown",
   "metadata": {
    "slideshow": {
     "slide_type": "subslide"
    }
   },
   "source": [
    "## Humanoid\n",
    "\n",
    "![Humanoid](img/humanoid/vecto.png)"
   ]
  },
  {
   "cell_type": "markdown",
   "metadata": {
    "slideshow": {
     "slide_type": "subslide"
    }
   },
   "source": [
    "## Torso\n",
    "\n",
    "![Torso](img/torso/vecto.png)"
   ]
  },
  {
   "cell_type": "markdown",
   "metadata": {
    "slideshow": {
     "slide_type": "slide"
    }
   },
   "source": [
    "# Comment brancher le robot ?"
   ]
  },
  {
   "cell_type": "markdown",
   "metadata": {
    "slideshow": {
     "slide_type": "subslide"
    }
   },
   "source": [
    "## Alimentation\n",
    "\n",
    "![Power Plug](img/power.gif)"
   ]
  },
  {
   "cell_type": "markdown",
   "metadata": {
    "slideshow": {
     "slide_type": "slide"
    }
   },
   "source": [
    "## Réseau"
   ]
  },
  {
   "cell_type": "markdown",
   "metadata": {
    "slideshow": {
     "slide_type": "subslide"
    }
   },
   "source": [
    "# Première connection\n",
    "\n",
    "* Réseau filaire\n",
    "* Utiliser un router\n",
    "\n",
    "![Premiere connection](img/reseau/simple.pdf)"
   ]
  },
  {
   "cell_type": "markdown",
   "metadata": {
    "slideshow": {
     "slide_type": "subslide"
    }
   },
   "source": [
    "# Connaître l'addresse du robot\n",
    "\n",
    "\n",
    "* IP (demander à l'admin. réseau)\n",
    "* en utilisant le **hostname** : poppy.local\n",
    "    * protocole Zéro conf. à installer sous Windows : https://support.apple.com/downloads/Bonjour_for_Windows\n",
    "    \n",
    "![IT Netorking](img/reseau/it-networking.jpg)"
   ]
  },
  {
   "cell_type": "markdown",
   "metadata": {
    "slideshow": {
     "slide_type": "slide"
    }
   },
   "source": [
    "# Utiliser l'interface web\n",
    "\n",
    "Aller sur la page:\n",
    "* http://poppy.local\n",
    "* ou par exemple http://192.168.1.42\n",
    "\n",
    "![Poppy Homepage](img/poppy_home.png)"
   ]
  },
  {
   "cell_type": "markdown",
   "metadata": {
    "slideshow": {
     "slide_type": "slide"
    }
   },
   "source": [
    "## Changer le wifi et le nom du robot"
   ]
  },
  {
   "cell_type": "markdown",
   "metadata": {
    "slideshow": {
     "slide_type": "slide"
    }
   },
   "source": [
    "# Connection en Wifi\n",
    "\n",
    "## Même procédure (en cas de problème -> filaire)\n",
    "\n",
    "![Connection Wifi](img/reseau/simple-wifi.pdf)"
   ]
  },
  {
   "cell_type": "markdown",
   "metadata": {
    "slideshow": {
     "slide_type": "subslide"
    }
   },
   "source": [
    "# Connection\n",
    "\n",
    "![Connection complexe](img/reseau/complex.pdf)"
   ]
  },
  {
   "cell_type": "markdown",
   "metadata": {
    "slideshow": {
     "slide_type": "slide"
    }
   },
   "source": [
    "## Interface de contrôle : Poppy Monitor\n",
    "\n",
    "* Idéal pour faire des démos \"salons\"\n",
    "* Fonctionne aussi sur téléphone !\n",
    "\n",
    "![Poppy Monitor](img/poppy-monitor.png)"
   ]
  },
  {
   "cell_type": "markdown",
   "metadata": {
    "slideshow": {
     "slide_type": "slide"
    }
   },
   "source": [
    "# Options de programmation\n",
    "\n",
    "* **Snap!**\n",
    "* Python\n",
    "* autres"
   ]
  },
  {
   "cell_type": "markdown",
   "metadata": {
    "slideshow": {
     "slide_type": "slide"
    }
   },
   "source": [
    "# Snap!\n",
    "\n",
    "![Snap Hello World](img/snap/helloworld.png)"
   ]
  },
  {
   "cell_type": "markdown",
   "metadata": {
    "slideshow": {
     "slide_type": "subslide"
    }
   },
   "source": [
    "# Snap: comment ça marche ?\n",
    "* lancer via interface web ou via poppy-services\n",
    "\n",
    "![Snap](img/snap/schema-1.pdf)"
   ]
  },
  {
   "cell_type": "markdown",
   "metadata": {
    "slideshow": {
     "slide_type": "subslide"
    }
   },
   "source": [
    "# Snap: comment ça marche ?\n",
    "*  Attention à la variable host!\n",
    "![Snap](img/snap/schema-2.pdf)"
   ]
  },
  {
   "cell_type": "markdown",
   "metadata": {
    "slideshow": {
     "slide_type": "subslide"
    }
   },
   "source": [
    "# Snap: comment ça marche ?\n",
    "\n",
    "\n",
    "![Snap](img/snap/schema-3.pdf)"
   ]
  },
  {
   "cell_type": "markdown",
   "metadata": {
    "slideshow": {
     "slide_type": "slide"
    }
   },
   "source": [
    "# Introduction à Snap! : Démonstration de mouvements\n",
    "\n",
    "## Live Demo!"
   ]
  }
 ],
 "metadata": {
  "celltoolbar": "Slideshow",
  "kernelspec": {
   "display_name": "Python 2",
   "language": "python",
   "name": "python2"
  },
  "language_info": {
   "codemirror_mode": {
    "name": "ipython",
    "version": 2
   },
   "file_extension": ".py",
   "mimetype": "text/x-python",
   "name": "python",
   "nbconvert_exporter": "python",
   "pygments_lexer": "ipython2",
   "version": "2.7.10"
  }
 },
 "nbformat": 4,
 "nbformat_minor": 0
}
